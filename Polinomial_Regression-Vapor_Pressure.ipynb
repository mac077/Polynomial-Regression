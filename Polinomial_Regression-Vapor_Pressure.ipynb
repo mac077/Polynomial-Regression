{
  "nbformat": 4,
  "nbformat_minor": 0,
  "metadata": {
    "kernelspec": {
      "display_name": "Python 3",
      "language": "python",
      "name": "python3"
    },
    "language_info": {
      "codemirror_mode": {
        "name": "ipython",
        "version": 3
      },
      "file_extension": ".py",
      "mimetype": "text/x-python",
      "name": "python",
      "nbconvert_exporter": "python",
      "pygments_lexer": "ipython3",
      "version": "3.6.4"
    },
    "colab": {
      "name": "Polinomial_Regression-Vapor_Pressure.ipynb",
      "provenance": [],
      "include_colab_link": true
    }
  },
  "cells": [
    {
      "cell_type": "markdown",
      "metadata": {
        "id": "view-in-github",
        "colab_type": "text"
      },
      "source": [
        "<a href=\"https://colab.research.google.com/github/mohan-mj/Polynomial-Regression/blob/master/Polinomial_Regression-Vapor_Pressure.ipynb\" target=\"_parent\"><img src=\"https://colab.research.google.com/assets/colab-badge.svg\" alt=\"Open In Colab\"/></a>"
      ]
    },
    {
      "cell_type": "code",
      "metadata": {
        "id": "Y6ur7ix0Anv2",
        "colab_type": "code",
        "colab": {}
      },
      "source": [
        "import numpy as np\n",
        "import matplotlib.pyplot as myPlot\n",
        "import pandas as pd"
      ],
      "execution_count": 0,
      "outputs": []
    },
    {
      "cell_type": "code",
      "metadata": {
        "id": "0q8xmM1rAnwI",
        "colab_type": "code",
        "colab": {
          "base_uri": "https://localhost:8080/",
          "height": 389
        },
        "outputId": "d0cb53f5-1d9e-41a6-ac3d-56cf219e2c32"
      },
      "source": [
        "# Importing the dataset\n",
        "#myData = pd.read_csv('Temperature_VaporPressure.csv')\n",
        "myData = pd.read_csv('https://raw.githubusercontent.com/mohan-mj/Polynomial-Regression/master/Temperature_VaporPressure.csv')\n",
        "myData"
      ],
      "execution_count": 7,
      "outputs": [
        {
          "output_type": "execute_result",
          "data": {
            "text/html": [
              "<div>\n",
              "<style scoped>\n",
              "    .dataframe tbody tr th:only-of-type {\n",
              "        vertical-align: middle;\n",
              "    }\n",
              "\n",
              "    .dataframe tbody tr th {\n",
              "        vertical-align: top;\n",
              "    }\n",
              "\n",
              "    .dataframe thead th {\n",
              "        text-align: right;\n",
              "    }\n",
              "</style>\n",
              "<table border=\"1\" class=\"dataframe\">\n",
              "  <thead>\n",
              "    <tr style=\"text-align: right;\">\n",
              "      <th></th>\n",
              "      <th>Temperature</th>\n",
              "      <th>Vapor_Pressure</th>\n",
              "    </tr>\n",
              "  </thead>\n",
              "  <tbody>\n",
              "    <tr>\n",
              "      <th>0</th>\n",
              "      <td>273</td>\n",
              "      <td>4.7</td>\n",
              "    </tr>\n",
              "    <tr>\n",
              "      <th>1</th>\n",
              "      <td>283</td>\n",
              "      <td>9.3</td>\n",
              "    </tr>\n",
              "    <tr>\n",
              "      <th>2</th>\n",
              "      <td>293</td>\n",
              "      <td>17.6</td>\n",
              "    </tr>\n",
              "    <tr>\n",
              "      <th>3</th>\n",
              "      <td>303</td>\n",
              "      <td>31.7</td>\n",
              "    </tr>\n",
              "    <tr>\n",
              "      <th>4</th>\n",
              "      <td>313</td>\n",
              "      <td>55.2</td>\n",
              "    </tr>\n",
              "    <tr>\n",
              "      <th>5</th>\n",
              "      <td>323</td>\n",
              "      <td>92.7</td>\n",
              "    </tr>\n",
              "    <tr>\n",
              "      <th>6</th>\n",
              "      <td>333</td>\n",
              "      <td>149.2</td>\n",
              "    </tr>\n",
              "    <tr>\n",
              "      <th>7</th>\n",
              "      <td>343</td>\n",
              "      <td>233.7</td>\n",
              "    </tr>\n",
              "    <tr>\n",
              "      <th>8</th>\n",
              "      <td>353</td>\n",
              "      <td>355.2</td>\n",
              "    </tr>\n",
              "    <tr>\n",
              "      <th>9</th>\n",
              "      <td>363</td>\n",
              "      <td>525.6</td>\n",
              "    </tr>\n",
              "    <tr>\n",
              "      <th>10</th>\n",
              "      <td>373</td>\n",
              "      <td>760.0</td>\n",
              "    </tr>\n",
              "  </tbody>\n",
              "</table>\n",
              "</div>"
            ],
            "text/plain": [
              "    Temperature  Vapor_Pressure\n",
              "0           273             4.7\n",
              "1           283             9.3\n",
              "2           293            17.6\n",
              "3           303            31.7\n",
              "4           313            55.2\n",
              "5           323            92.7\n",
              "6           333           149.2\n",
              "7           343           233.7\n",
              "8           353           355.2\n",
              "9           363           525.6\n",
              "10          373           760.0"
            ]
          },
          "metadata": {
            "tags": []
          },
          "execution_count": 7
        }
      ]
    },
    {
      "cell_type": "code",
      "metadata": {
        "id": "qfSz0Pq6Anwb",
        "colab_type": "code",
        "colab": {
          "base_uri": "https://localhost:8080/",
          "height": 210
        },
        "outputId": "17bc3446-cfa6-4a1d-8dbc-9eb2b8b0ca22"
      },
      "source": [
        "X = myData.iloc[:, :1].values\n",
        "X"
      ],
      "execution_count": 8,
      "outputs": [
        {
          "output_type": "execute_result",
          "data": {
            "text/plain": [
              "array([[273],\n",
              "       [283],\n",
              "       [293],\n",
              "       [303],\n",
              "       [313],\n",
              "       [323],\n",
              "       [333],\n",
              "       [343],\n",
              "       [353],\n",
              "       [363],\n",
              "       [373]])"
            ]
          },
          "metadata": {
            "tags": []
          },
          "execution_count": 8
        }
      ]
    },
    {
      "cell_type": "code",
      "metadata": {
        "id": "P3PazgHKAnw0",
        "colab_type": "code",
        "colab": {
          "base_uri": "https://localhost:8080/",
          "height": 52
        },
        "outputId": "c6df75d2-def2-46a3-9778-85e17762c47f"
      },
      "source": [
        "y = myData.iloc[:, 1].values\n",
        "y"
      ],
      "execution_count": 9,
      "outputs": [
        {
          "output_type": "execute_result",
          "data": {
            "text/plain": [
              "array([  4.7,   9.3,  17.6,  31.7,  55.2,  92.7, 149.2, 233.7, 355.2,\n",
              "       525.6, 760. ])"
            ]
          },
          "metadata": {
            "tags": []
          },
          "execution_count": 9
        }
      ]
    },
    {
      "cell_type": "code",
      "metadata": {
        "scrolled": true,
        "id": "cu1Y8mNHAnxB",
        "colab_type": "code",
        "colab": {
          "base_uri": "https://localhost:8080/",
          "height": 269
        },
        "outputId": "471beebc-ffd9-4d77-fca8-7dd1bb7ad39c"
      },
      "source": [
        "myPlot.scatter(X,y, color='b')\n",
        "myPlot.show()"
      ],
      "execution_count": 10,
      "outputs": [
        {
          "output_type": "display_data",
          "data": {
            "image/png": "[encoded data removed]",
            "text/plain": [
              "<Figure size 432x288 with 1 Axes>"
            ]
          },
          "metadata": {
            "tags": []
          }
        }
      ]
    },
    {
      "cell_type": "code",
      "metadata": {
        "id": "DUpBH3LKAnxR",
        "colab_type": "code",
        "colab": {}
      },
      "source": [
        "from sklearn.linear_model import LinearRegression"
      ],
      "execution_count": 0,
      "outputs": []
    },
    {
      "cell_type": "code",
      "metadata": {
        "id": "AYei8F5wAnxc",
        "colab_type": "code",
        "colab": {}
      },
      "source": [
        "myModel_linear = LinearRegression().fit(X,y)"
      ],
      "execution_count": 0,
      "outputs": []
    },
    {
      "cell_type": "code",
      "metadata": {
        "id": "dNShWIFiAnxm",
        "colab_type": "code",
        "colab": {
          "base_uri": "https://localhost:8080/",
          "height": 269
        },
        "outputId": "a65bed24-48c8-4616-bc61-22ccf17bd768"
      },
      "source": [
        "myPlot.scatter(X,y, color='r')\n",
        "myPlot.plot(X,myModel_linear.predict(X), color='b')\n",
        "myPlot.show()"
      ],
      "execution_count": 13,
      "outputs": [
        {
          "output_type": "display_data",
          "data": {
            "image/png": "[encoded data removed]",
            "text/plain": [
              "<Figure size 432x288 with 1 Axes>"
            ]
          },
          "metadata": {
            "tags": []
          }
        }
      ]
    },
    {
      "cell_type": "code",
      "metadata": {
        "id": "9O555i46Anxw",
        "colab_type": "code",
        "colab": {
          "base_uri": "https://localhost:8080/",
          "height": 295
        },
        "outputId": "2660b7ae-4915-4ab2-c89f-4b01da5e71e0"
      },
      "source": [
        "from scipy import stats as mystats\n",
        "res = myModel_linear.predict(X) -y\n",
        "mystats.probplot(res,plot=myPlot)\n",
        "myPlot.show()"
      ],
      "execution_count": 14,
      "outputs": [
        {
          "output_type": "display_data",
          "data": {
            "image/png": "[encoded data removed]",
            "text/plain": [
              "<Figure size 432x288 with 1 Axes>"
            ]
          },
          "metadata": {
            "tags": []
          }
        }
      ]
    },
    {
      "cell_type": "code",
      "metadata": {
        "id": "Xc--3IXmAnx3",
        "colab_type": "code",
        "colab": {}
      },
      "source": [
        "from sklearn.preprocessing import PolynomialFeatures"
      ],
      "execution_count": 0,
      "outputs": []
    },
    {
      "cell_type": "code",
      "metadata": {
        "id": "4_NadDYKAnyB",
        "colab_type": "code",
        "colab": {
          "base_uri": "https://localhost:8080/",
          "height": 210
        },
        "outputId": "4ecd6ce4-0eff-49fe-cbad-f3a63ca913c1"
      },
      "source": [
        "X_poly = PolynomialFeatures(degree=2).fit_transform(X)\n",
        "X_poly"
      ],
      "execution_count": 16,
      "outputs": [
        {
          "output_type": "execute_result",
          "data": {
            "text/plain": [
              "array([[1.00000e+00, 2.73000e+02, 7.45290e+04],\n",
              "       [1.00000e+00, 2.83000e+02, 8.00890e+04],\n",
              "       [1.00000e+00, 2.93000e+02, 8.58490e+04],\n",
              "       [1.00000e+00, 3.03000e+02, 9.18090e+04],\n",
              "       [1.00000e+00, 3.13000e+02, 9.79690e+04],\n",
              "       [1.00000e+00, 3.23000e+02, 1.04329e+05],\n",
              "       [1.00000e+00, 3.33000e+02, 1.10889e+05],\n",
              "       [1.00000e+00, 3.43000e+02, 1.17649e+05],\n",
              "       [1.00000e+00, 3.53000e+02, 1.24609e+05],\n",
              "       [1.00000e+00, 3.63000e+02, 1.31769e+05],\n",
              "       [1.00000e+00, 3.73000e+02, 1.39129e+05]])"
            ]
          },
          "metadata": {
            "tags": []
          },
          "execution_count": 16
        }
      ]
    },
    {
      "cell_type": "code",
      "metadata": {
        "id": "kI0cfo8JAnyM",
        "colab_type": "code",
        "colab": {}
      },
      "source": [
        "myModel_poly = LinearRegression().fit(X_poly,y)"
      ],
      "execution_count": 0,
      "outputs": []
    },
    {
      "cell_type": "code",
      "metadata": {
        "id": "dCit8ZySAnyg",
        "colab_type": "code",
        "colab": {
          "base_uri": "https://localhost:8080/",
          "height": 270
        },
        "outputId": "36af7f05-148b-408b-9906-8801aac2b0a1"
      },
      "source": [
        "myPlot.scatter(X,y, color='r')\n",
        "myPlot.plot(X,myModel_poly.predict(X_poly), color='b')\n",
        "myPlot.show()"
      ],
      "execution_count": 18,
      "outputs": [
        {
          "output_type": "display_data",
          "data": {
            "image/png": "[encoded data removed]",
            "text/plain": [
              "<Figure size 432x288 with 1 Axes>"
            ]
          },
          "metadata": {
            "tags": []
          }
        }
      ]
    },
    {
      "cell_type": "code",
      "metadata": {
        "id": "KjHKJ1n-Anyq",
        "colab_type": "code",
        "colab": {
          "base_uri": "https://localhost:8080/",
          "height": 210
        },
        "outputId": "a03c2a48-8ecd-42d8-d18c-ff4adf2a78ab"
      },
      "source": [
        "X_poly = PolynomialFeatures(degree=3)\n",
        "X_fet = X_poly.fit_transform(X)\n",
        "X_fet"
      ],
      "execution_count": 19,
      "outputs": [
        {
          "output_type": "execute_result",
          "data": {
            "text/plain": [
              "array([[1.0000000e+00, 2.7300000e+02, 7.4529000e+04, 2.0346417e+07],\n",
              "       [1.0000000e+00, 2.8300000e+02, 8.0089000e+04, 2.2665187e+07],\n",
              "       [1.0000000e+00, 2.9300000e+02, 8.5849000e+04, 2.5153757e+07],\n",
              "       [1.0000000e+00, 3.0300000e+02, 9.1809000e+04, 2.7818127e+07],\n",
              "       [1.0000000e+00, 3.1300000e+02, 9.7969000e+04, 3.0664297e+07],\n",
              "       [1.0000000e+00, 3.2300000e+02, 1.0432900e+05, 3.3698267e+07],\n",
              "       [1.0000000e+00, 3.3300000e+02, 1.1088900e+05, 3.6926037e+07],\n",
              "       [1.0000000e+00, 3.4300000e+02, 1.1764900e+05, 4.0353607e+07],\n",
              "       [1.0000000e+00, 3.5300000e+02, 1.2460900e+05, 4.3986977e+07],\n",
              "       [1.0000000e+00, 3.6300000e+02, 1.3176900e+05, 4.7832147e+07],\n",
              "       [1.0000000e+00, 3.7300000e+02, 1.3912900e+05, 5.1895117e+07]])"
            ]
          },
          "metadata": {
            "tags": []
          },
          "execution_count": 19
        }
      ]
    },
    {
      "cell_type": "code",
      "metadata": {
        "id": "IC8dbLvCAny7",
        "colab_type": "code",
        "colab": {
          "base_uri": "https://localhost:8080/",
          "height": 269
        },
        "outputId": "a798a052-37cb-463f-bc3b-a7cd5f3004fa"
      },
      "source": [
        "myModel_poly = LinearRegression().fit(X_fet,y)\n",
        "myPlot.scatter(X,y, color='r')\n",
        "myPlot.plot(X,myModel_poly.predict(X_fet), color='b')\n",
        "myPlot.show()"
      ],
      "execution_count": 20,
      "outputs": [
        {
          "output_type": "display_data",
          "data": {
            "image/png": "[encoded data removed]",
            "text/plain": [
              "<Figure size 432x288 with 1 Axes>"
            ]
          },
          "metadata": {
            "tags": []
          }
        }
      ]
    },
    {
      "cell_type": "code",
      "metadata": {
        "id": "DXo4zVk0AnzF",
        "colab_type": "code",
        "colab": {
          "base_uri": "https://localhost:8080/",
          "height": 34
        },
        "outputId": "e28e6215-dfb5-45b2-ce01-d05a6829b7df"
      },
      "source": [
        "X_poly.transform([[359]])"
      ],
      "execution_count": 23,
      "outputs": [
        {
          "output_type": "execute_result",
          "data": {
            "text/plain": [
              "array([[1.0000000e+00, 3.5900000e+02, 1.2888100e+05, 4.6268279e+07]])"
            ]
          },
          "metadata": {
            "tags": []
          },
          "execution_count": 23
        }
      ]
    },
    {
      "cell_type": "code",
      "metadata": {
        "id": "5l8otxKyAnzN",
        "colab_type": "code",
        "colab": {
          "base_uri": "https://localhost:8080/",
          "height": 34
        },
        "outputId": "eba45689-bdde-4a01-fcc7-04bb45424ea0"
      },
      "source": [
        "myModel_poly.predict(X_poly.transform([[359]]))"
      ],
      "execution_count": 25,
      "outputs": [
        {
          "output_type": "execute_result",
          "data": {
            "text/plain": [
              "array([457.22993961])"
            ]
          },
          "metadata": {
            "tags": []
          },
          "execution_count": 25
        }
      ]
    },
    {
      "cell_type": "code",
      "metadata": {
        "id": "Ps02kOkYAnzW",
        "colab_type": "code",
        "colab": {}
      },
      "source": [
        ""
      ],
      "execution_count": 0,
      "outputs": []
    }
  ]
}